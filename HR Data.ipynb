{
  "metadata": {
    "language_info": {
      "codemirror_mode": {
        "name": "python",
        "version": 3
      },
      "file_extension": ".py",
      "mimetype": "text/x-python",
      "name": "python",
      "nbconvert_exporter": "python",
      "pygments_lexer": "ipython3",
      "version": "3.8"
    },
    "kernelspec": {
      "name": "python",
      "display_name": "Python (Pyodide)",
      "language": "python"
    }
  },
  "nbformat_minor": 4,
  "nbformat": 4,
  "cells": [
    {
      "cell_type": "code",
      "source": "import numpy as np\nimport pandas as pd\ndf = pd.read_csv(\"HR_comma_sep.csv\")",
      "metadata": {
        "trusted": true
      },
      "execution_count": 1,
      "outputs": []
    },
    {
      "cell_type": "markdown",
      "source": "#Evaluting the Left VS Retained",
      "metadata": {}
    },
    {
      "cell_type": "code",
      "source": "left = df[df.left==1]\nretained = df[df.left==0]",
      "metadata": {
        "trusted": true
      },
      "execution_count": 8,
      "outputs": []
    },
    {
      "cell_type": "code",
      "source": "print(\"The total number of employeed on record is\", df.size)",
      "metadata": {
        "trusted": true
      },
      "execution_count": 16,
      "outputs": [
        {
          "name": "stdout",
          "text": "The total number of employeed on record is 149990\n",
          "output_type": "stream"
        }
      ]
    },
    {
      "cell_type": "code",
      "source": "print(\"The numer of people who left the organization is\", left.size)",
      "metadata": {
        "trusted": true
      },
      "execution_count": 14,
      "outputs": [
        {
          "name": "stdout",
          "text": "The numer of people who left the organization is 35710\n",
          "output_type": "stream"
        }
      ]
    },
    {
      "cell_type": "code",
      "source": "print(\"The numer of people who were retained by the organization is\", retained.size)",
      "metadata": {
        "trusted": true
      },
      "execution_count": 15,
      "outputs": [
        {
          "name": "stdout",
          "text": "The numer of people who were retained by the organization is 114280\n",
          "output_type": "stream"
        }
      ]
    },
    {
      "cell_type": "markdown",
      "source": "#Mean of all values",
      "metadata": {}
    },
    {
      "cell_type": "code",
      "source": "df.groupby('left').mean()",
      "metadata": {
        "trusted": true
      },
      "execution_count": 24,
      "outputs": [
        {
          "name": "stderr",
          "text": "<ipython-input-24-b0959f325c8f>:1: FutureWarning: The default value of numeric_only in DataFrameGroupBy.mean is deprecated. In a future version, numeric_only will default to False. Either specify numeric_only or select only columns which should be valid for the function.\n  df.groupby('left').mean()\n",
          "output_type": "stream"
        },
        {
          "execution_count": 24,
          "output_type": "execute_result",
          "data": {
            "text/plain": "      satisfaction_level  last_evaluation  number_project  \\\nleft                                                        \n0               0.666810         0.715473        3.786664   \n1               0.440098         0.718113        3.855503   \n\n      average_montly_hours  time_spend_company  Work_accident  \\\nleft                                                            \n0               199.060203            3.380032       0.175009   \n1               207.419210            3.876505       0.047326   \n\n      promotion_last_5years  \nleft                         \n0                  0.026251  \n1                  0.005321  ",
            "text/html": "<div>\n<style scoped>\n    .dataframe tbody tr th:only-of-type {\n        vertical-align: middle;\n    }\n\n    .dataframe tbody tr th {\n        vertical-align: top;\n    }\n\n    .dataframe thead th {\n        text-align: right;\n    }\n</style>\n<table border=\"1\" class=\"dataframe\">\n  <thead>\n    <tr style=\"text-align: right;\">\n      <th></th>\n      <th>satisfaction_level</th>\n      <th>last_evaluation</th>\n      <th>number_project</th>\n      <th>average_montly_hours</th>\n      <th>time_spend_company</th>\n      <th>Work_accident</th>\n      <th>promotion_last_5years</th>\n    </tr>\n    <tr>\n      <th>left</th>\n      <th></th>\n      <th></th>\n      <th></th>\n      <th></th>\n      <th></th>\n      <th></th>\n      <th></th>\n    </tr>\n  </thead>\n  <tbody>\n    <tr>\n      <th>0</th>\n      <td>0.666810</td>\n      <td>0.715473</td>\n      <td>3.786664</td>\n      <td>199.060203</td>\n      <td>3.380032</td>\n      <td>0.175009</td>\n      <td>0.026251</td>\n    </tr>\n    <tr>\n      <th>1</th>\n      <td>0.440098</td>\n      <td>0.718113</td>\n      <td>3.855503</td>\n      <td>207.419210</td>\n      <td>3.876505</td>\n      <td>0.047326</td>\n      <td>0.005321</td>\n    </tr>\n  </tbody>\n</table>\n</div>"
          },
          "metadata": {}
        }
      ]
    },
    {
      "cell_type": "raw",
      "source": "Some Observations-\n1. We notice that people who are retained have a better satisfaction score of 0.666810, compared to 0.440098 satisfaction score of those who left.\n2. The Number of Projects and Avg Monthly Hours of people of left were 3.855503 & 207.419210 respectively, compared to 3.786664 & 199.060203 to those who were retained. This might show burn-out within employees.",
      "metadata": {}
    },
    {
      "cell_type": "markdown",
      "source": "#Salary VS Retention",
      "metadata": {}
    },
    {
      "cell_type": "code",
      "source": "import matplotlib.pyplot as plt",
      "metadata": {
        "trusted": true
      },
      "execution_count": 25,
      "outputs": []
    },
    {
      "cell_type": "code",
      "source": "z = pd.crosstab(df['salary'],df['left'])\nz",
      "metadata": {
        "trusted": true
      },
      "execution_count": 31,
      "outputs": [
        {
          "execution_count": 31,
          "output_type": "execute_result",
          "data": {
            "text/plain": "left       0     1\nsalary            \nhigh    1155    82\nlow     5144  2172\nmedium  5129  1317",
            "text/html": "<div>\n<style scoped>\n    .dataframe tbody tr th:only-of-type {\n        vertical-align: middle;\n    }\n\n    .dataframe tbody tr th {\n        vertical-align: top;\n    }\n\n    .dataframe thead th {\n        text-align: right;\n    }\n</style>\n<table border=\"1\" class=\"dataframe\">\n  <thead>\n    <tr style=\"text-align: right;\">\n      <th>left</th>\n      <th>0</th>\n      <th>1</th>\n    </tr>\n    <tr>\n      <th>salary</th>\n      <th></th>\n      <th></th>\n    </tr>\n  </thead>\n  <tbody>\n    <tr>\n      <th>high</th>\n      <td>1155</td>\n      <td>82</td>\n    </tr>\n    <tr>\n      <th>low</th>\n      <td>5144</td>\n      <td>2172</td>\n    </tr>\n    <tr>\n      <th>medium</th>\n      <td>5129</td>\n      <td>1317</td>\n    </tr>\n  </tbody>\n</table>\n</div>"
          },
          "metadata": {}
        }
      ]
    },
    {
      "cell_type": "code",
      "source": "z.plot(kind='bar')",
      "metadata": {
        "trusted": true
      },
      "execution_count": 33,
      "outputs": [
        {
          "execution_count": 33,
          "output_type": "execute_result",
          "data": {
            "text/plain": "<AxesSubplot:xlabel='salary'>"
          },
          "metadata": {}
        },
        {
          "output_type": "display_data",
          "data": {
            "text/plain": "<Figure size 640x480 with 1 Axes>",
            "image/png": "[encoded data removed]"
          },
          "metadata": {}
        }
      ]
    },
    {
      "cell_type": "raw",
      "source": "Calculate the percentage of salary slabs for all categories",
      "metadata": {}
    },
    {
      "cell_type": "raw",
      "source": "Above bar chart shows employees with high salaries are likely to not leave the company",
      "metadata": {}
    },
    {
      "cell_type": "markdown",
      "source": "#Department-wise Retention",
      "metadata": {}
    },
    {
      "cell_type": "code",
      "source": "z = pd.crosstab(df['Department'],df['left'])\nz",
      "metadata": {
        "trusted": true
      },
      "execution_count": 62,
      "outputs": [
        {
          "execution_count": 62,
          "output_type": "execute_result",
          "data": {
            "text/plain": "left            0     1\nDepartment             \nIT            954   273\nRandD         666   121\naccounting    563   204\nhr            524   215\nmanagement    539    91\nmarketing     655   203\nproduct_mng   704   198\nsales        3126  1014\nsupport      1674   555\ntechnical    2023   697",
            "text/html": "<div>\n<style scoped>\n    .dataframe tbody tr th:only-of-type {\n        vertical-align: middle;\n    }\n\n    .dataframe tbody tr th {\n        vertical-align: top;\n    }\n\n    .dataframe thead th {\n        text-align: right;\n    }\n</style>\n<table border=\"1\" class=\"dataframe\">\n  <thead>\n    <tr style=\"text-align: right;\">\n      <th>left</th>\n      <th>0</th>\n      <th>1</th>\n    </tr>\n    <tr>\n      <th>Department</th>\n      <th></th>\n      <th></th>\n    </tr>\n  </thead>\n  <tbody>\n    <tr>\n      <th>IT</th>\n      <td>954</td>\n      <td>273</td>\n    </tr>\n    <tr>\n      <th>RandD</th>\n      <td>666</td>\n      <td>121</td>\n    </tr>\n    <tr>\n      <th>accounting</th>\n      <td>563</td>\n      <td>204</td>\n    </tr>\n    <tr>\n      <th>hr</th>\n      <td>524</td>\n      <td>215</td>\n    </tr>\n    <tr>\n      <th>management</th>\n      <td>539</td>\n      <td>91</td>\n    </tr>\n    <tr>\n      <th>marketing</th>\n      <td>655</td>\n      <td>203</td>\n    </tr>\n    <tr>\n      <th>product_mng</th>\n      <td>704</td>\n      <td>198</td>\n    </tr>\n    <tr>\n      <th>sales</th>\n      <td>3126</td>\n      <td>1014</td>\n    </tr>\n    <tr>\n      <th>support</th>\n      <td>1674</td>\n      <td>555</td>\n    </tr>\n    <tr>\n      <th>technical</th>\n      <td>2023</td>\n      <td>697</td>\n    </tr>\n  </tbody>\n</table>\n</div>"
          },
          "metadata": {}
        }
      ]
    },
    {
      "cell_type": "code",
      "source": "z.plot(kind=\"bar\")",
      "metadata": {
        "trusted": true
      },
      "execution_count": 63,
      "outputs": [
        {
          "execution_count": 63,
          "output_type": "execute_result",
          "data": {
            "text/plain": "<AxesSubplot:xlabel='Department'>"
          },
          "metadata": {}
        },
        {
          "output_type": "display_data",
          "data": {
            "text/plain": "<Figure size 640x480 with 1 Axes>",
            "image/png": "[encoded data removed]"
          },
          "metadata": {}
        }
      ]
    },
    {
      "cell_type": "raw",
      "source": "We don't notice a major impact from the graph above, hence we will ignore department in our analysis",
      "metadata": {}
    },
    {
      "cell_type": "markdown",
      "source": "#Conclusion -\n1. We Salary, Promotion, Avg Monthly Hours and Satisfaction as the prime factors for employee retention\n2. Department doesn't play a big role\n3. Work Accident and Last Assessment haven't been taken into account",
      "metadata": {}
    },
    {
      "cell_type": "code",
      "source": "sub_df= df[['satisfaction_level','average_montly_hours','promotion_last_5years','salary']]\nsub_df.head(10)",
      "metadata": {
        "trusted": true
      },
      "execution_count": 64,
      "outputs": [
        {
          "execution_count": 64,
          "output_type": "execute_result",
          "data": {
            "text/plain": "   satisfaction_level  average_montly_hours  promotion_last_5years  salary\n0                0.38                   157                      0     low\n1                0.80                   262                      0  medium\n2                0.11                   272                      0  medium\n3                0.72                   223                      0     low\n4                0.37                   159                      0     low\n5                0.41                   153                      0     low\n6                0.10                   247                      0     low\n7                0.92                   259                      0     low\n8                0.89                   224                      0     low\n9                0.42                   142                      0     low",
            "text/html": "<div>\n<style scoped>\n    .dataframe tbody tr th:only-of-type {\n        vertical-align: middle;\n    }\n\n    .dataframe tbody tr th {\n        vertical-align: top;\n    }\n\n    .dataframe thead th {\n        text-align: right;\n    }\n</style>\n<table border=\"1\" class=\"dataframe\">\n  <thead>\n    <tr style=\"text-align: right;\">\n      <th></th>\n      <th>satisfaction_level</th>\n      <th>average_montly_hours</th>\n      <th>promotion_last_5years</th>\n      <th>salary</th>\n    </tr>\n  </thead>\n  <tbody>\n    <tr>\n      <th>0</th>\n      <td>0.38</td>\n      <td>157</td>\n      <td>0</td>\n      <td>low</td>\n    </tr>\n    <tr>\n      <th>1</th>\n      <td>0.80</td>\n      <td>262</td>\n      <td>0</td>\n      <td>medium</td>\n    </tr>\n    <tr>\n      <th>2</th>\n      <td>0.11</td>\n      <td>272</td>\n      <td>0</td>\n      <td>medium</td>\n    </tr>\n    <tr>\n      <th>3</th>\n      <td>0.72</td>\n      <td>223</td>\n      <td>0</td>\n      <td>low</td>\n    </tr>\n    <tr>\n      <th>4</th>\n      <td>0.37</td>\n      <td>159</td>\n      <td>0</td>\n      <td>low</td>\n    </tr>\n    <tr>\n      <th>5</th>\n      <td>0.41</td>\n      <td>153</td>\n      <td>0</td>\n      <td>low</td>\n    </tr>\n    <tr>\n      <th>6</th>\n      <td>0.10</td>\n      <td>247</td>\n      <td>0</td>\n      <td>low</td>\n    </tr>\n    <tr>\n      <th>7</th>\n      <td>0.92</td>\n      <td>259</td>\n      <td>0</td>\n      <td>low</td>\n    </tr>\n    <tr>\n      <th>8</th>\n      <td>0.89</td>\n      <td>224</td>\n      <td>0</td>\n      <td>low</td>\n    </tr>\n    <tr>\n      <th>9</th>\n      <td>0.42</td>\n      <td>142</td>\n      <td>0</td>\n      <td>low</td>\n    </tr>\n  </tbody>\n</table>\n</div>"
          },
          "metadata": {}
        }
      ]
    },
    {
      "cell_type": "raw",
      "source": "Dealing with Categorical Data (Salary)",
      "metadata": {}
    },
    {
      "cell_type": "code",
      "source": "sal_dum = pd.get_dummies(sub_df['salary'])",
      "metadata": {
        "trusted": true
      },
      "execution_count": 70,
      "outputs": []
    },
    {
      "cell_type": "code",
      "source": "merged = pd.concat([sal_dum,sub_df],axis=1)",
      "metadata": {
        "trusted": true
      },
      "execution_count": 72,
      "outputs": []
    },
    {
      "cell_type": "code",
      "source": "final = merged.drop(['salary'],axis = 1)",
      "metadata": {
        "trusted": true
      },
      "execution_count": 76,
      "outputs": []
    },
    {
      "cell_type": "code",
      "source": "X = final\ny = df['left']",
      "metadata": {
        "trusted": true
      },
      "execution_count": 81,
      "outputs": []
    },
    {
      "cell_type": "raw",
      "source": "Using Test_train_split model",
      "metadata": {}
    },
    {
      "cell_type": "code",
      "source": "from sklearn.model_selection import train_test_split\nX_train, X_test, y_train, y_test = train_test_split(X,y,test_size=0.2) ",
      "metadata": {
        "trusted": true
      },
      "execution_count": 82,
      "outputs": []
    },
    {
      "cell_type": "code",
      "source": "from sklearn.linear_model import LogisticRegression\nreg = LogisticRegression()",
      "metadata": {
        "trusted": true
      },
      "execution_count": 84,
      "outputs": []
    },
    {
      "cell_type": "code",
      "source": "reg.fit(X_train,y_train)",
      "metadata": {
        "trusted": true
      },
      "execution_count": 86,
      "outputs": [
        {
          "execution_count": 86,
          "output_type": "execute_result",
          "data": {
            "text/plain": "LogisticRegression()",
            "text/html": "<style>#sk-container-id-1 {color: black;background-color: white;}#sk-container-id-1 pre{padding: 0;}#sk-container-id-1 div.sk-toggleable {background-color: white;}#sk-container-id-1 label.sk-toggleable__label {cursor: pointer;display: block;width: 100%;margin-bottom: 0;padding: 0.3em;box-sizing: border-box;text-align: center;}#sk-container-id-1 label.sk-toggleable__label-arrow:before {content: \"▸\";float: left;margin-right: 0.25em;color: #696969;}#sk-container-id-1 label.sk-toggleable__label-arrow:hover:before {color: black;}#sk-container-id-1 div.sk-estimator:hover label.sk-toggleable__label-arrow:before {color: black;}#sk-container-id-1 div.sk-toggleable__content {max-height: 0;max-width: 0;overflow: hidden;text-align: left;background-color: #f0f8ff;}#sk-container-id-1 div.sk-toggleable__content pre {margin: 0.2em;color: black;border-radius: 0.25em;background-color: #f0f8ff;}#sk-container-id-1 input.sk-toggleable__control:checked~div.sk-toggleable__content {max-height: 200px;max-width: 100%;overflow: auto;}#sk-container-id-1 input.sk-toggleable__control:checked~label.sk-toggleable__label-arrow:before {content: \"▾\";}#sk-container-id-1 div.sk-estimator input.sk-toggleable__control:checked~label.sk-toggleable__label {background-color: #d4ebff;}#sk-container-id-1 div.sk-label input.sk-toggleable__control:checked~label.sk-toggleable__label {background-color: #d4ebff;}#sk-container-id-1 input.sk-hidden--visually {border: 0;clip: rect(1px 1px 1px 1px);clip: rect(1px, 1px, 1px, 1px);height: 1px;margin: -1px;overflow: hidden;padding: 0;position: absolute;width: 1px;}#sk-container-id-1 div.sk-estimator {font-family: monospace;background-color: #f0f8ff;border: 1px dotted black;border-radius: 0.25em;box-sizing: border-box;margin-bottom: 0.5em;}#sk-container-id-1 div.sk-estimator:hover {background-color: #d4ebff;}#sk-container-id-1 div.sk-parallel-item::after {content: \"\";width: 100%;border-bottom: 1px solid gray;flex-grow: 1;}#sk-container-id-1 div.sk-label:hover label.sk-toggleable__label {background-color: #d4ebff;}#sk-container-id-1 div.sk-serial::before {content: \"\";position: absolute;border-left: 1px solid gray;box-sizing: border-box;top: 0;bottom: 0;left: 50%;z-index: 0;}#sk-container-id-1 div.sk-serial {display: flex;flex-direction: column;align-items: center;background-color: white;padding-right: 0.2em;padding-left: 0.2em;position: relative;}#sk-container-id-1 div.sk-item {position: relative;z-index: 1;}#sk-container-id-1 div.sk-parallel {display: flex;align-items: stretch;justify-content: center;background-color: white;position: relative;}#sk-container-id-1 div.sk-item::before, #sk-container-id-1 div.sk-parallel-item::before {content: \"\";position: absolute;border-left: 1px solid gray;box-sizing: border-box;top: 0;bottom: 0;left: 50%;z-index: -1;}#sk-container-id-1 div.sk-parallel-item {display: flex;flex-direction: column;z-index: 1;position: relative;background-color: white;}#sk-container-id-1 div.sk-parallel-item:first-child::after {align-self: flex-end;width: 50%;}#sk-container-id-1 div.sk-parallel-item:last-child::after {align-self: flex-start;width: 50%;}#sk-container-id-1 div.sk-parallel-item:only-child::after {width: 0;}#sk-container-id-1 div.sk-dashed-wrapped {border: 1px dashed gray;margin: 0 0.4em 0.5em 0.4em;box-sizing: border-box;padding-bottom: 0.4em;background-color: white;}#sk-container-id-1 div.sk-label label {font-family: monospace;font-weight: bold;display: inline-block;line-height: 1.2em;}#sk-container-id-1 div.sk-label-container {text-align: center;}#sk-container-id-1 div.sk-container {/* jupyter's `normalize.less` sets `[hidden] { display: none; }` but bootstrap.min.css set `[hidden] { display: none !important; }` so we also need the `!important` here to be able to override the default hidden behavior on the sphinx rendered scikit-learn.org. See: https://github.com/scikit-learn/scikit-learn/issues/21755 */display: inline-block !important;position: relative;}#sk-container-id-1 div.sk-text-repr-fallback {display: none;}</style><div id=\"sk-container-id-1\" class=\"sk-top-container\"><div class=\"sk-text-repr-fallback\"><pre>LogisticRegression()</pre><b>In a Jupyter environment, please rerun this cell to show the HTML representation or trust the notebook. <br />On GitHub, the HTML representation is unable to render, please try loading this page with nbviewer.org.</b></div><div class=\"sk-container\" hidden><div class=\"sk-item\"><div class=\"sk-estimator sk-toggleable\"><input class=\"sk-toggleable__control sk-hidden--visually\" id=\"sk-estimator-id-1\" type=\"checkbox\" checked><label for=\"sk-estimator-id-1\" class=\"sk-toggleable__label sk-toggleable__label-arrow\">LogisticRegression</label><div class=\"sk-toggleable__content\"><pre>LogisticRegression()</pre></div></div></div></div></div>"
          },
          "metadata": {}
        }
      ]
    },
    {
      "cell_type": "code",
      "source": "reg.predict(X_test)",
      "metadata": {
        "trusted": true
      },
      "execution_count": 87,
      "outputs": [
        {
          "execution_count": 87,
          "output_type": "execute_result",
          "data": {
            "text/plain": "array([0, 0, 0, ..., 0, 0, 0], dtype=int64)"
          },
          "metadata": {}
        }
      ]
    },
    {
      "cell_type": "raw",
      "source": "Checking the accuracy of the model",
      "metadata": {}
    },
    {
      "cell_type": "code",
      "source": "print(\"The Accuracy of our model is\",reg.score(X_test,y_test)*100,\"%\")",
      "metadata": {
        "trusted": true
      },
      "execution_count": 91,
      "outputs": [
        {
          "name": "stdout",
          "text": "The Accuracy of our model is 76.7 %\n",
          "output_type": "stream"
        }
      ]
    },
    {
      "cell_type": "code",
      "source": "",
      "metadata": {},
      "execution_count": null,
      "outputs": []
    }
  ]
}